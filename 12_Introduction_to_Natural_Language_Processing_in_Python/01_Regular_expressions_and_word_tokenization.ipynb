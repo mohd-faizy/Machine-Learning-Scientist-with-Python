{
  "nbformat": 4,
  "nbformat_minor": 0,
  "metadata": {
    "kernelspec": {
      "display_name": "Python 3",
      "language": "python",
      "name": "python3"
    },
    "language_info": {
      "codemirror_mode": {
        "name": "ipython",
        "version": 3
      },
      "file_extension": ".py",
      "mimetype": "text/x-python",
      "name": "python",
      "nbconvert_exporter": "python",
      "pygments_lexer": "ipython3",
      "version": "3.7.6"
    },
    "colab": {
      "name": "01_Regular-expressions-and-word-tokenization.ipynb",
      "provenance": [],
      "collapsed_sections": [
        "b0QKGqxrEFHP",
        "_Ov3_nIqEnDX",
        "VuToPyn9QSzO",
        "T5FzDwpfQSzR",
        "eYKjCfTpQSzS",
        "5I7JA3AzQSzX",
        "110l2I93QSzZ",
        "uCvg251QQSzZ",
        "MxWFyh2WQSzb",
        "jo973dS5QSze",
        "9PE6484pQSzo",
        "WiHn6AtYQSzo"
      ],
      "toc_visible": true,
      "include_colab_link": true
    }
  },
  "cells": [
    {
      "cell_type": "markdown",
      "metadata": {
        "id": "view-in-github",
        "colab_type": "text"
      },
      "source": [
        "<a href=\"https://colab.research.google.com/github/mohd-faizy/CAREER-TRACK-Machine-Learning-Scientist-with-Python/blob/main/01_Regular_expressions_and_word_tokenization.ipynb\" target=\"_parent\"><img src=\"https://colab.research.google.com/assets/colab-badge.svg\" alt=\"Open In Colab\"/></a>"
      ]
    },
    {
      "cell_type": "markdown",
      "metadata": {
        "id": "TS3VUyUC6aij"
      },
      "source": [
        "--- \n",
        "<strong> \n",
        "    <h1 align='center'>Regular expressions & word tokenization</h1> \n",
        "</strong>\n",
        "\n",
        "---\n",
        "\n",
        "\n",
        "> This chapter will introduce some basic NLP concepts, such as word tokenization and regular expressions to help parse text. You'll also learn how to handle non-English text and more difficult tokenization you might find.\n",
        "\n"
      ]
    },
    {
      "cell_type": "code",
      "metadata": {
        "colab": {
          "base_uri": "https://localhost:8080/"
        },
        "id": "PoSpaoNj6WeF",
        "outputId": "3b47cf69-85c8-416f-837b-3bac24f7d8f3"
      },
      "source": [
        "!git clone https://github.com/mohd-faizy/CAREER-TRACK-Machine-Learning-Scientist-with-Python.git"
      ],
      "execution_count": null,
      "outputs": [
        {
          "output_type": "stream",
          "text": [
            "Cloning into 'CAREER-TRACK-Machine-Learning-Scientist-with-Python'...\n",
            "remote: Enumerating objects: 744, done.\u001b[K\n",
            "remote: Counting objects: 100% (415/415), done.\u001b[K\n",
            "remote: Compressing objects: 100% (368/368), done.\u001b[K\n",
            "remote: Total 744 (delta 110), reused 325 (delta 45), pack-reused 329\u001b[K\n",
            "Receiving objects: 100% (744/744), 214.73 MiB | 31.38 MiB/s, done.\n",
            "Resolving deltas: 100% (236/236), done.\n",
            "Checking out files: 100% (340/340), done.\n"
          ],
          "name": "stdout"
        }
      ]
    },
    {
      "cell_type": "code",
      "metadata": {
        "id": "Aw05dwIb9A9U"
      },
      "source": [
        "import pandas as pd\n",
        "import numpy as np\n",
        "import matplotlib.pyplot as plt\n",
        "import seaborn as sns\n",
        "import os\n",
        "\n",
        "plt.style.use('fivethirtyeight')\n",
        "#plt.style.use('ggplot')\n",
        "#sns.set_theme()\n",
        "\n",
        "%matplotlib inline"
      ],
      "execution_count": null,
      "outputs": []
    },
    {
      "cell_type": "code",
      "metadata": {
        "colab": {
          "base_uri": "https://localhost:8080/"
        },
        "id": "q_QJ6k0e9bI2",
        "outputId": "0bae03ef-3b95-4a26-8ebc-806df57e077e"
      },
      "source": [
        "os.chdir('/content/CAREER-TRACK-Machine-Learning-Scientist-with-Python/11_Introduction_to_Natural_Language_Processing_in_Python/_dataset')\n",
        "cwd = os.getcwd()\n",
        "print('Curent working directory is ', cwd)"
      ],
      "execution_count": null,
      "outputs": [
        {
          "output_type": "stream",
          "text": [
            "Curent working directory is  /content/CAREER-TRACK-Machine-Learning-Scientist-with-Python/11_Introduction_to_Natural_Language_Processing_in_Python/_dataset\n"
          ],
          "name": "stdout"
        }
      ]
    },
    {
      "cell_type": "code",
      "metadata": {
        "colab": {
          "base_uri": "https://localhost:8080/"
        },
        "id": "9H7VtZ_99qrY",
        "outputId": "3e215f77-a689-4b1b-98b0-b01796ce785c"
      },
      "source": [
        "ls"
      ],
      "execution_count": null,
      "outputs": [
        {
          "output_type": "stream",
          "text": [
            "articles.csv           fake_or_real_news.csv  \u001b[0m\u001b[01;34mnews_articles\u001b[0m/\n",
            "english_stopwords.txt  grail.txt              \u001b[01;34mwikipedia_articles\u001b[0m/\n"
          ],
          "name": "stdout"
        }
      ]
    },
    {
      "cell_type": "code",
      "metadata": {
        "id": "n_R39E-HQSzJ"
      },
      "source": [
        "import re\n",
        "from pprint import pprint"
      ],
      "execution_count": null,
      "outputs": []
    },
    {
      "cell_type": "markdown",
      "metadata": {
        "id": "9AtId6x5QSzK"
      },
      "source": [
        "## **Introduction to regular expressions**\n",
        "\n",
        "A **RegEx**, or **Regular Expression**, is a sequence of characters that forms a search pattern.\n",
        "\n",
        ">RegEx can be used to check **if a string contains the specified search pattern**.\n",
        "\n",
        "```python\n",
        "import re\n",
        "```\n",
        "The module defines several functions and constants to work with **RegEx**. The `re` module is composed of **five function**s known as:\n",
        "\n",
        "- __`findall`__: *It **findall** search for matches and print resultant in the form of a list.*\n",
        "\n",
        "- __`search`__: *It works the same as a findall, but the resultant is a matched object, if any found.*\n",
        "\n",
        "- __`split`__: *The **split** function splits the string from every matched into two new strings.*\n",
        "\n",
        "- __`sub`__: *The sub-function works exactly like a replace function in notepad or MS Word, it replaces the original word, with a word of our choice.*\n",
        "\n",
        "- __`finditer`__: *The finditer yields an iterator as a resultant with all the objects that match the one we sent it) finditer supports more attributes than any other function defined above. It also provides more details related to the matched object. So, most of the examples we are going to see next will contain a finditer function in them.*\n",
        "\n"
      ]
    },
    {
      "cell_type": "markdown",
      "metadata": {
        "id": "b0QKGqxrEFHP"
      },
      "source": [
        "### **Metacharacters**\n",
        "\n",
        "<p align='center'>\n",
        "\t<a href='#'><img src='https://github.com/mohd-faizy/CAREER-TRACK-Machine-Learning-Scientist-with-Python/blob/main/11_Introduction_to_Natural_Language_Processing_in_Python/img/Metacharacters.png?raw=true'>\n",
        "    </a>\n",
        "</p>"
      ]
    },
    {
      "cell_type": "markdown",
      "metadata": {
        "id": "_Ov3_nIqEnDX"
      },
      "source": [
        "### **Special Sequences**\n",
        "\n",
        "A special sequence is a __`\\`__ followed by one of the characters in the list below, and has a special meaning:\n",
        "\n",
        "<p align='center'>\n",
        "\t<a href='#'><img src='https://github.com/mohd-faizy/CAREER-TRACK-Machine-Learning-Scientist-with-Python/blob/main/11_Introduction_to_Natural_Language_Processing_in_Python/img/Special%20Sequences.png?raw=true'>\n",
        "    </a>\n",
        "</p>"
      ]
    },
    {
      "cell_type": "markdown",
      "metadata": {
        "id": "iTMIGhOhE7GY"
      },
      "source": [
        "### **Sets**\n",
        "\n",
        "<p align='center'>\n",
        "\t<a href='#'><img src='https://github.com/mohd-faizy/CAREER-TRACK-Machine-Learning-Scientist-with-Python/blob/main/11_Introduction_to_Natural_Language_Processing_in_Python/img/Set.png?raw=true'>\n",
        "    </a>\n",
        "</p>"
      ]
    },
    {
      "cell_type": "markdown",
      "metadata": {
        "id": "I5dk0396GZHQ"
      },
      "source": [
        "#### __`findall()` Function__\n",
        "\n",
        "The `findall()` function returns a list containing all matches."
      ]
    },
    {
      "cell_type": "code",
      "metadata": {
        "colab": {
          "base_uri": "https://localhost:8080/"
        },
        "id": "1qDdE1WeF7Ov",
        "outputId": "ca8b7a01-d1e8-4cc5-9919-e4425a3d3a46"
      },
      "source": [
        "import re\n",
        "\n",
        "txt = \"The rain in Spain\"\n",
        "\n",
        "x = re.findall(\"ai\", txt)\n",
        "print(x)\n",
        "\n",
        "y = re.findall(\"Portugal\", txt) # If no matches are found, an empty list[] is returned\n",
        "print(y)"
      ],
      "execution_count": null,
      "outputs": [
        {
          "output_type": "stream",
          "text": [
            "['ai', 'ai']\n",
            "[]\n"
          ],
          "name": "stdout"
        }
      ]
    },
    {
      "cell_type": "markdown",
      "metadata": {
        "id": "9pzpKbPEGmIC"
      },
      "source": [
        "#### __`search()` Function__\n",
        "\n",
        "- The `search()` function searches the string for a match, and returns a Match object if there is a match.\n",
        "\n",
        "- If there is **more than one match**, *only the first occurrence of the match will be returned*"
      ]
    },
    {
      "cell_type": "code",
      "metadata": {
        "colab": {
          "base_uri": "https://localhost:8080/"
        },
        "id": "m6EAaPu-HRT-",
        "outputId": "9dd10f69-a10c-4044-cfc8-99267f075e40"
      },
      "source": [
        "import re\n",
        "\n",
        "txt = \"The rain in Spain\"\n",
        "x = re.search(\"\\s\", txt)\n",
        "\n",
        "print(\"The first white-space character is located in position:\", x.start())\n",
        "\n",
        "y = re.search(\"Portugal\", txt) # If no matches are found, the value None is returned\n",
        "print(y)"
      ],
      "execution_count": null,
      "outputs": [
        {
          "output_type": "stream",
          "text": [
            "The first white-space character is located in position: 3\n",
            "None\n"
          ],
          "name": "stdout"
        }
      ]
    },
    {
      "cell_type": "markdown",
      "metadata": {
        "id": "X6dbZ_-7H6dj"
      },
      "source": [
        "#### __`split()` Function__\n",
        "\n",
        "The `split()` function returns a list where the string has been split at each match."
      ]
    },
    {
      "cell_type": "code",
      "metadata": {
        "colab": {
          "base_uri": "https://localhost:8080/"
        },
        "id": "UK6u38JZIJms",
        "outputId": "dea78aaf-e714-45d6-bebe-e56030cb526a"
      },
      "source": [
        "import re\n",
        "\n",
        "txt = \"The rain in Spain\"\n",
        "x = re.split(\"\\s\", txt)\n",
        "print(x)\n",
        "\n",
        "y = re.split(\"\\s\", txt, 1) # specifying the `maxsplit` parameter\n",
        "print(y)"
      ],
      "execution_count": null,
      "outputs": [
        {
          "output_type": "stream",
          "text": [
            "['The', 'rain', 'in', 'Spain']\n",
            "['The', 'rain in Spain']\n"
          ],
          "name": "stdout"
        }
      ]
    },
    {
      "cell_type": "markdown",
      "metadata": {
        "id": "nnuEf8YiIo7i"
      },
      "source": [
        "#### __`sub() Function`__\n",
        "\n",
        "The `sub()` function replaces the matches with the text of your choice:"
      ]
    },
    {
      "cell_type": "code",
      "metadata": {
        "colab": {
          "base_uri": "https://localhost:8080/"
        },
        "id": "_6FMGay0IzIh",
        "outputId": "e0bcfbec-a383-4d22-fb6d-f869a9047c65"
      },
      "source": [
        "import re\n",
        "\n",
        "txt = \"The rain in Spain\"\n",
        "x = re.sub(\"\\s\", \"_\", txt) #Replace every white-space character with the number 9\n",
        "print(x)\n",
        "\n",
        "y = re.sub(\"\\s\", \"_\", txt, 2) # specifying the `count` parameter\n",
        "print(y)"
      ],
      "execution_count": null,
      "outputs": [
        {
          "output_type": "stream",
          "text": [
            "The_rain_in_Spain\n",
            "The_rain_in Spain\n"
          ],
          "name": "stdout"
        }
      ]
    },
    {
      "cell_type": "code",
      "metadata": {
        "colab": {
          "base_uri": "https://localhost:8080/"
        },
        "id": "V3QCMuotJmnx",
        "outputId": "537e8d96-f0c6-4b36-feca-480d16aeb1f6"
      },
      "source": [
        "import re\n",
        "\n",
        "txt = \"The rain in Spain\"\n",
        "x = re.search(\"ai\", txt)\n",
        "print(x) # this will print an object"
      ],
      "execution_count": null,
      "outputs": [
        {
          "output_type": "stream",
          "text": [
            "<re.Match object; span=(5, 7), match='ai'>\n"
          ],
          "name": "stdout"
        }
      ]
    },
    {
      "cell_type": "markdown",
      "metadata": {
        "id": "JQpzFUXUJym3"
      },
      "source": [
        "The Match object has properties and methods used to retrieve information about the search, and the result:\n",
        "\n",
        "- `.span()`: returns a tuple containing the start-, and end positions of the match.\n",
        "- `.string`: returns the string passed into the function\n",
        "- `.group()`: returns the part of the string where there was a match"
      ]
    },
    {
      "cell_type": "code",
      "metadata": {
        "colab": {
          "base_uri": "https://localhost:8080/"
        },
        "id": "bNvMpkvBKMSm",
        "outputId": "415a3c68-68c7-43a2-a051-22604d23bbff"
      },
      "source": [
        "import re\n",
        "\n",
        "txt = \"The rain in Spain\"\n",
        "x = re.search(r\"\\bS\\w+\", txt)\n",
        "print(x.span())\n",
        "\n",
        "y = re.search(r\"\\bS\\w+\", txt)\n",
        "print(y.string)\n",
        "\n",
        "z = re.search(r\"\\bS\\w+\", txt)\n",
        "print(z.group())"
      ],
      "execution_count": null,
      "outputs": [
        {
          "output_type": "stream",
          "text": [
            "(12, 17)\n",
            "The rain in Spain\n",
            "Spain\n"
          ],
          "name": "stdout"
        }
      ]
    },
    {
      "cell_type": "markdown",
      "metadata": {
        "id": "zFx2Jaq9Kq8L"
      },
      "source": [
        "> **Note:** If there is no match, the value ***None*** will be returned, instead of the Match Object."
      ]
    },
    {
      "cell_type": "code",
      "metadata": {
        "id": "1K8SHbK99X1j",
        "colab": {
          "base_uri": "https://localhost:8080/"
        },
        "outputId": "e31d6226-45cc-44b7-8527-222d75bbd88b"
      },
      "source": [
        "import re\n",
        "\n",
        "mystr = '''Tata Limited\n",
        "Dr. David Landsman, executive director\n",
        "18, Grosvenor Place\n",
        "London SW1X 7HSc\n",
        "Phone: +44 (20) 7235 8281\n",
        "Fax: +44 (20) 7235 8727\n",
        "Email: tata@tata.co.uk\n",
        "Website: www.europe.tata.com\n",
        "Directions: View map\n",
        "\n",
        "Tata Sons, North America\n",
        "1700 North Moore St, Suite 1520\n",
        "Arlington, VA 22209-1911\n",
        "USA\n",
        "Phone: +1 (703) 243 9787\n",
        "Fax: +1 (703) 243 9791\n",
        "66-66\n",
        "455-4545\n",
        "Email: northamerica@tata.com \n",
        "Website: www.northamerica.tata.com\n",
        "Directions: View map fass\n",
        "harry potter lekin\n",
        "bahut hi badia aadmi haiaiinaiiiiiiiiiiii'''\n",
        "\n",
        "# findall, search, split, sub, finditer\n",
        "# patt = re.compile(r'fass')\n",
        "# patt = re.compile(r'.adm')\n",
        "# patt = re.compile(r'^Tata')\n",
        "# patt = re.compile(r'iin$')\n",
        "# patt = re.compile(r'ai{2}')\n",
        "# patt = re.compile(r'(ai){1}')\n",
        "# patt = re.compile(r'ai{1}|Fax')\n",
        "\n",
        "\n",
        "# Special Sequences\n",
        "# patt = re.compile(r'Fax\\b')\n",
        "# patt = re.compile(r'27\\b')\n",
        "patt = re.compile(r'\\d{5}-\\d{4}')\n",
        "\n",
        "# Task\n",
        "# Given a string with a lot of indian phone numbers starting from +91\n",
        "\n",
        "matches = patt.finditer(mystr)\n",
        "\n",
        "for match in matches:\n",
        "    print(match)"
      ],
      "execution_count": null,
      "outputs": [
        {
          "output_type": "stream",
          "text": [
            "<re.Match object; span=(284, 294), match='22209-1911'>\n"
          ],
          "name": "stdout"
        }
      ]
    },
    {
      "cell_type": "markdown",
      "metadata": {
        "id": "r9gjSXu6J4Nl"
      },
      "source": [
        "### What is Natural Language Processing?\n",
        "\n",
        "- **Field of study focused on making sense of language**\n",
        "    - Using statistics and computers\n",
        "\n",
        "- **Basics of NLP**\n",
        "    - *Topic identification*\n",
        "    - *Text classification*\n",
        "\n",
        "- [__NLP applications include__](https://www.analyticsvidhya.com/blog/2020/07/top-10-applications-of-natural-language-processing-nlp/)\n",
        "    - ***Search Autocorrect and Autocomplete***\n",
        "    - ***Language Translator***\n",
        "    - ***Social Media Monitoring***\n",
        "    - ***Chatbots***\n",
        "    - ***Survey Analysis***\n",
        "    - ***Sentiment analysis***\n",
        "    - ***Targeted Advertising***\n",
        "    - ***Hiring and Recruitment***\n",
        "    - ***Voice Assistants***\n",
        "    - ***Grammar Checkers***\n",
        "    - ***Email Filtering***\n"
      ]
    },
    {
      "cell_type": "markdown",
      "metadata": {
        "id": "W9B9zc2y7Zm1"
      },
      "source": [
        "- **Regular expressions**\n",
        "\n",
        "    - Strings with a special syntax\n",
        "    - Allow us to match patterns in other strings\n",
        "    - Applications of regular expressions\n",
        "        - Find all web links in a document\n",
        "        - Parse email addresses, remove/replace unwanted characters\n",
        "\n",
        "```python \n",
        "import re\n",
        "re.match('abc', 'abcdef')\n",
        "\n",
        "# <_sre.SRE_Match object; span=(0, 3), match='abc'>\n",
        "```\n",
        "```python\n",
        "import re\n",
        "word_regex = '\\w+'\n",
        "re.match(word_regex,'hi there!')\n",
        "\n",
        "# <_sre.SRE_Match object; span=(0, 2), match='hi'>\n",
        "```\n",
        "\n",
        "- **Common Regex patterns**\n",
        "\n",
        "$$\n",
        "\\begin{array}{|l|l|l|}\n",
        "\\hline \\text { pattern } & \\text { matches } & \\text { example } \\\\\n",
        "\\hline \\text { \\w+ } & \\text { word } & \\text { 'Magic' } \\\\\n",
        "\\hline \\text { \\d } & \\text { digit } & 9 \\\\\n",
        "\\hline \\text { \\s } & \\text { space } & \\text { ' ' } \\\\\n",
        "\\hline \\text {.*} & \\text { wildcard } & \\text { 'username74' } \\\\\n",
        "\\hline \\text { + or }^{*} & \\text { greedy match } & \\text { 'aaaaaa' } \\\\\n",
        "\\hline \\text { \\S } & \\text { not space } & \\text { 'no_spaces' } \\\\\n",
        "\\hline \\text { [a-z] } & \\text { lowercase group } & \\text { 'abcdefg' } \\\\\n",
        "\\hline\n",
        "\\end{array}\n",
        "$$\n",
        "\n",
        "\n",
        "- Python's re Module\n",
        "    - `split`: split a string on regex\n",
        "    - `findall`: find all patterns in a string\n",
        "    - `search`: search for a pattern\n",
        "    - `match`: match an entire string or substring based on a pattern\n",
        "    - Pattern first, and the string second\n",
        "    - May return an iterator, string, or match object"
      ]
    },
    {
      "cell_type": "code",
      "metadata": {
        "id": "fMwBIqGrQSzM",
        "colab": {
          "base_uri": "https://localhost:8080/"
        },
        "outputId": "d4a1c3eb-fcbf-46fc-a411-7273dee55853"
      },
      "source": [
        "my_string = \"Let's write RegEx!\"\n",
        "PATTERN = r\"\\w+\"\n",
        "re.findall(PATTERN, my_string)"
      ],
      "execution_count": null,
      "outputs": [
        {
          "output_type": "execute_result",
          "data": {
            "text/plain": [
              "['Let', 's', 'write', 'RegEx']"
            ]
          },
          "metadata": {
            "tags": []
          },
          "execution_count": 13
        }
      ]
    },
    {
      "cell_type": "markdown",
      "metadata": {
        "id": "VuToPyn9QSzO"
      },
      "source": [
        "### Practicing regular expressions - re.split() and re.findall()\n",
        "Now you'll get a chance to write some regular expressions to match digits, strings and non-alphanumeric characters. Take a look at `my_string` first by printing it in the IPython Shell, to determine how you might best match the different steps.\n",
        "\n",
        "Note: It's important to prefix your regex patterns with `r` to ensure that your patterns are interpreted in the way you want them to. Else, you may encounter problems to do with escape sequences in strings. For example, `\"\\n\"` in Python is used to indicate a new line, but if you use the `r` prefix, it will be interpreted as the raw string `\"\\n\"` - that is, the character `\"\\\"` followed by the character `\"n\"` - and not as a new line.\n",
        "\n",
        "Remember from the video that the syntax for the regex library is to always to pass the **pattern first**, and then the **string second**."
      ]
    },
    {
      "cell_type": "code",
      "metadata": {
        "id": "Pc443qxdQSzP"
      },
      "source": [
        "my_string = \"Let's write RegEx!  Won't that be fun?  I sure think so.  Can you find 4 sentences?  Or perhaps, all 19 words?\""
      ],
      "execution_count": null,
      "outputs": []
    },
    {
      "cell_type": "code",
      "metadata": {
        "id": "S6AY_wbrQSzQ",
        "colab": {
          "base_uri": "https://localhost:8080/"
        },
        "outputId": "30416f33-cab8-484e-fbf7-cdb820eeae0d"
      },
      "source": [
        "# Write a pattern to match sentence endings: sentence_endings\n",
        "sentence_endings = r\"[.?!]\"\n",
        "\n",
        "# Split my_string on sentence endings and print the result\n",
        "print(re.split(sentence_endings, my_string))\n",
        "\n",
        "# Find all capicalized words in my_string and print the result\n",
        "capitalized_words = r\"[A-Z]\\w+\"\n",
        "print(re.findall(capitalized_words, my_string))\n",
        "\n",
        "# Split my_string on spaces and print the result\n",
        "spaces = r\"\\s+\"\n",
        "print(re.split(spaces, my_string))\n",
        "\n",
        "# Find all digits in my_string and print the result\n",
        "digits = r\"\\d+\"\n",
        "print(re.findall(digits, my_string))"
      ],
      "execution_count": null,
      "outputs": [
        {
          "output_type": "stream",
          "text": [
            "[\"Let's write RegEx\", \"  Won't that be fun\", '  I sure think so', '  Can you find 4 sentences', '  Or perhaps, all 19 words', '']\n",
            "['Let', 'RegEx', 'Won', 'Can', 'Or']\n",
            "[\"Let's\", 'write', 'RegEx!', \"Won't\", 'that', 'be', 'fun?', 'I', 'sure', 'think', 'so.', 'Can', 'you', 'find', '4', 'sentences?', 'Or', 'perhaps,', 'all', '19', 'words?']\n",
            "['4', '19']\n"
          ],
          "name": "stdout"
        }
      ]
    },
    {
      "cell_type": "markdown",
      "metadata": {
        "id": "T5FzDwpfQSzR"
      },
      "source": [
        "## Introduction to tokenization\n",
        "- Tokenization\n",
        "    - Turning a string or document into **tokens** (smaller chunks)\n",
        "    - One step in preparing a text for NLP\n",
        "    - Many different theories and rules\n",
        "    - You can create your own rules using regular expressions\n",
        "    - Some examples:\n",
        "        - Breaking out words or sentences\n",
        "        - Separating punctuation\n",
        "        - Separating all hashtags in a tweet\n",
        "- Why tokenize?\n",
        "    - Easier to map part of speech\n",
        "    - Matching common words\n",
        "    - Removing unwanted tokens\n",
        "- Other `nltk` tokenizers\n",
        "    - `sent_tokenize`: tokenize a document into sentences\n",
        "    - `regexp_tokenize`: tokenize a string or document based on a regular expression pattern\n",
        "    - `TweetTokenizer`: special class just for tweet tokenization, allowing you to separate hashtags, mentions and lots of exclamation points"
      ]
    },
    {
      "cell_type": "markdown",
      "metadata": {
        "id": "eYKjCfTpQSzS"
      },
      "source": [
        "### Word tokenization with NLTK\n",
        "Here, you'll be using the first scene of Monty Python's Holy Grail, which has been pre-loaded as `scene_one`.\n",
        "\n",
        "Your job in this exercise is to utilize `word_tokenize` and `sent_tokenize` from `nltk.tokenize` to tokenize both words and sentences from Python strings - in this case, the first scene of Monty Python's Holy Grail."
      ]
    },
    {
      "cell_type": "markdown",
      "metadata": {
        "id": "Lz4Pdlb9QSzS"
      },
      "source": [
        "> Note: Before using NLTK, you must install `punkt` package for tokenizer"
      ]
    },
    {
      "cell_type": "code",
      "metadata": {
        "id": "6BkcluN0QSzT"
      },
      "source": [
        "with open('grail.txt', 'r') as file:\n",
        "    holy_grail = file.read()\n",
        "    scene_one = re.split('SCENE 2:', holy_grail)[0]"
      ],
      "execution_count": null,
      "outputs": []
    },
    {
      "cell_type": "code",
      "metadata": {
        "id": "RTFlwBe2QSzV",
        "colab": {
          "base_uri": "https://localhost:8080/",
          "height": 160
        },
        "outputId": "f418c913-8559-485f-cef3-2301f9a23501"
      },
      "source": [
        "scene_one"
      ],
      "execution_count": null,
      "outputs": [
        {
          "output_type": "execute_result",
          "data": {
            "application/vnd.google.colaboratory.intrinsic+json": {
              "type": "string"
            },
            "text/plain": [
              "\"SCENE 1: [wind] [clop clop clop] \\nKING ARTHUR: Whoa there!  [clop clop clop] \\nSOLDIER #1: Halt!  Who goes there?\\nARTHUR: It is I, Arthur, son of Uther Pendragon, from the castle of Camelot.  King of the Britons, defeator of the Saxons, sovereign of all England!\\nSOLDIER #1: Pull the other one!\\nARTHUR: I am, ...  and this is my trusty servant Patsy.  We have ridden the length and breadth of the land in search of knights who will join me in my court at Camelot.  I must speak with your lord and master.\\nSOLDIER #1: What?  Ridden on a horse?\\nARTHUR: Yes!\\nSOLDIER #1: You're using coconuts!\\nARTHUR: What?\\nSOLDIER #1: You've got two empty halves of coconut and you're bangin' 'em together.\\nARTHUR: So?  We have ridden since the snows of winter covered this land, through the kingdom of Mercea, through--\\nSOLDIER #1: Where'd you get the coconuts?\\nARTHUR: We found them.\\nSOLDIER #1: Found them?  In Mercea?  The coconut's tropical!\\nARTHUR: What do you mean?\\nSOLDIER #1: Well, this is a temperate zone.\\nARTHUR: The swallow may fly south with the sun or the house martin or the plover may seek warmer climes in winter, yet these are not strangers to our land?\\nSOLDIER #1: Are you suggesting coconuts migrate?\\nARTHUR: Not at all.  They could be carried.\\nSOLDIER #1: What?  A swallow carrying a coconut?\\nARTHUR: It could grip it by the husk!\\nSOLDIER #1: It's not a question of where he grips it!  It's a simple question of weight ratios!  A five ounce bird could not carry a one pound coconut.\\nARTHUR: Well, it doesn't matter.  Will you go and tell your master that Arthur from the Court of Camelot is here.\\nSOLDIER #1: Listen.  In order to maintain air-speed velocity, a swallow needs to beat its wings forty-three times every second, right?\\nARTHUR: Please!\\nSOLDIER #1: Am I right?\\nARTHUR: I'm not interested!\\nSOLDIER #2: It could be carried by an African swallow!\\nSOLDIER #1: Oh, yeah, an African swallow maybe, but not a European swallow.  That's my point.\\nSOLDIER #2: Oh, yeah, I agree with that.\\nARTHUR: Will you ask your master if he wants to join my court at Camelot?!\\nSOLDIER #1: But then of course a-- African swallows are non-migratory.\\nSOLDIER #2: Oh, yeah...\\nSOLDIER #1: So they couldn't bring a coconut back anyway...  [clop clop clop] \\nSOLDIER #2: Wait a minute!  Supposing two swallows carried it together?\\nSOLDIER #1: No, they'd have to have it on a line.\\nSOLDIER #2: Well, simple!  They'd just use a strand of creeper!\\nSOLDIER #1: What, held under the dorsal guiding feathers?\\nSOLDIER #2: Well, why not?\\n\""
            ]
          },
          "metadata": {
            "tags": []
          },
          "execution_count": 17
        }
      ]
    },
    {
      "cell_type": "code",
      "metadata": {
        "id": "GkxGz6_oQSzW"
      },
      "source": [
        "from nltk.tokenize import word_tokenize, sent_tokenize\n",
        "\n",
        "# Split scene_one into sentences: sentences\n",
        "sentences = sent_tokenize(scene_one)\n",
        "\n",
        "# Use word_tokenize to tokenize the fourth sentence: tokenized_sent\n",
        "tokenized_sent = word_tokenize(sentences[3])\n",
        "\n",
        "# Make a set of unique tokens in the entire scene: unique_tokens\n",
        "unique_tokens = set(word_tokenize(scene_one))\n",
        "\n",
        "# Print the unique tokens result\n",
        "print(unique_tokens)"
      ],
      "execution_count": null,
      "outputs": []
    },
    {
      "cell_type": "markdown",
      "metadata": {
        "id": "5I7JA3AzQSzX"
      },
      "source": [
        "### More regex with re.search()\n",
        "In this exercise, you'll utilize `re.search()` and `re.match()` to find specific tokens. Both search and match expect regex patterns, similar to those you defined in an earlier exercise. You'll apply these regex library methods to the same Monty Python text from the `nltk` corpora.\n",
        "\n"
      ]
    },
    {
      "cell_type": "code",
      "metadata": {
        "id": "FjvJT3jnQSzX"
      },
      "source": [
        "# Search for the first occurrence of \"coconuts\" in scene_one: match\n",
        "match = re.search(\"coconuts\", scene_one)\n",
        "\n",
        "# Print the start and end indexes of match\n",
        "print(match.start(), match.end())"
      ],
      "execution_count": null,
      "outputs": []
    },
    {
      "cell_type": "code",
      "metadata": {
        "id": "ItdC3SmkQSzY"
      },
      "source": [
        "# Write a regular expression to search for anything in square brackets: pattern1\n",
        "pattern1 = r\"\\[.*\\]\"\n",
        "\n",
        "# Use re.search to find the first text in square brackets\n",
        "print(re.search(pattern1, scene_one))"
      ],
      "execution_count": null,
      "outputs": []
    },
    {
      "cell_type": "code",
      "metadata": {
        "id": "kMiLG711QSzY"
      },
      "source": [
        "# Find the script notation at the beginning of the fourth sentence and print it\n",
        "pattern2 = r\"[\\w\\s]+:\"\n",
        "print(re.match(pattern2, sentences[3]))"
      ],
      "execution_count": null,
      "outputs": []
    },
    {
      "cell_type": "markdown",
      "metadata": {
        "id": "110l2I93QSzZ"
      },
      "source": [
        "## Advanced tokenization with NLTK and regex\n",
        "- Regex groups using or `|`\n",
        "    - OR is represented using `|`\n",
        "    - You can define a group using `()`\n",
        "    - You can define explicit character ranges using `[]`\n",
        "- Regex ranges and groups\n",
        "\n",
        "| pattern | matches | example |\n",
        "| ------- | ------- | ------- |\n",
        "| [A-Za-z]+ | upper and lowercase English alphabet | 'ABCDEFghijk' |\n",
        "| [0-9] | numbers from 0 to 9 | 9 |\n",
        "| [A-Za-z\\-\\.]+ | upper and lowercase English alphabet, - and . | 'My-Website.com' |\n",
        "| (a-z) | a, - and z | 'a-z' |\n",
        "| (\\s+|,) | spaces or a comma | ', ' |"
      ]
    },
    {
      "cell_type": "markdown",
      "metadata": {
        "id": "uCvg251QQSzZ"
      },
      "source": [
        "### Choosing a tokenizer\n",
        "Given the following string, which of the below patterns is the best tokenizer? If possible, you want to retain sentence punctuation as separate tokens, but have `'#1'` remain a single token.\n",
        "```python\n",
        "my_string = \"SOLDIER #1: Found them? In Mercea? The coconut's tropical!\"\n",
        "```\n",
        "\n",
        "Additionally, `regexp_tokenize` has been imported from `nltk.tokenize`. You can use `regexp_tokenize(string, pattern)` with `my_string` and one of the patterns as arguments to experiment for yourself and see which is the best tokenizer."
      ]
    },
    {
      "cell_type": "code",
      "metadata": {
        "id": "w6nwQFnyQSza"
      },
      "source": [
        "from nltk.tokenize import regexp_tokenize\n",
        "\n",
        "my_string = \"SOLDIER #1: Found them? In Mercea? The coconut's tropical!\"\n",
        "\n",
        "pattern1 = r'(\\\\w+|\\\\?|!)'\n",
        "pattern2 = r\"(\\w+|#\\d|\\?|!)\"\n",
        "pattern3 = r'(#\\\\d\\\\w+\\\\?!)'\n",
        "pattern4 = r'\\\\s+'"
      ],
      "execution_count": null,
      "outputs": []
    },
    {
      "cell_type": "code",
      "metadata": {
        "id": "EV0N7RZ7QSza"
      },
      "source": [
        "pprint(regexp_tokenize(my_string, pattern2))"
      ],
      "execution_count": null,
      "outputs": []
    },
    {
      "cell_type": "markdown",
      "metadata": {
        "id": "MxWFyh2WQSzb"
      },
      "source": [
        "### Regex with NLTK tokenization\n",
        "Twitter is a frequently used source for NLP text and tasks. In this exercise, you'll build a more complex tokenizer for tweets with hashtags and mentions using nltk and regex. The `nltk.tokenize.TweetTokenizer` class gives you some extra methods and attributes for parsing tweets.\n",
        "\n",
        "Here, you're given some example tweets to parse using both `TweetTokenizer` and `regexp_tokenize` from the `nltk.tokenize` module. \n",
        "\n",
        "Unlike the syntax for the regex library, with `nltk_tokenize()` you pass the pattern as the second argument."
      ]
    },
    {
      "cell_type": "code",
      "metadata": {
        "id": "t6ZCMb-6QSzc"
      },
      "source": [
        "tweets = ['This is the best #nlp exercise ive found online! #python',\n",
        " '#NLP is super fun! <3 #learning',\n",
        " 'Thanks @datacamp :) #nlp #python']"
      ],
      "execution_count": null,
      "outputs": []
    },
    {
      "cell_type": "code",
      "metadata": {
        "id": "XFo3N4IoQSzc"
      },
      "source": [
        "from nltk.tokenize import regexp_tokenize, TweetTokenizer\n",
        "\n",
        "# Define a regex pattern to find hashtags: pattern1\n",
        "pattern1 = r\"#\\w+\"\n",
        "\n",
        "# Use the pattern on the first tweet in the tweets list\n",
        "hashtags = regexp_tokenize(tweets[0], pattern1)\n",
        "print(hashtags)"
      ],
      "execution_count": null,
      "outputs": []
    },
    {
      "cell_type": "code",
      "metadata": {
        "id": "kO_C8aQNQSzd"
      },
      "source": [
        "# write a pattern that matches both mentions (@) and hashtags\n",
        "pattern2 = r\"[@|#]\\w+\"\n",
        "\n",
        "# Use the pattern on the last tweet in the tweets list\n",
        "mentions_hashtags = regexp_tokenize(tweets[-1], pattern2)\n",
        "print(mentions_hashtags)"
      ],
      "execution_count": null,
      "outputs": []
    },
    {
      "cell_type": "code",
      "metadata": {
        "id": "Fb9R-5JXQSzd"
      },
      "source": [
        "# Use the TweetTokenizer to tokenize all tweets into one list\n",
        "tknzr = TweetTokenizer()\n",
        "all_tokens = [tknzr.tokenize(t) for t in tweets]\n",
        "print(all_tokens)"
      ],
      "execution_count": null,
      "outputs": []
    },
    {
      "cell_type": "markdown",
      "metadata": {
        "id": "jo973dS5QSze"
      },
      "source": [
        "### Non-ascii tokenization\n",
        "In this exercise, you'll practice advanced tokenization by tokenizing some non-ascii based text. You'll be using German with emoji!\n",
        "\n",
        "Here, you have access to a string called `german_text`, which has been printed for you in the Shell. Notice the emoji and the German characters!\n",
        "\n",
        "Unicode ranges for emoji are:\n",
        "\n",
        "`('\\U0001F300'-'\\U0001F5FF')`, `('\\U0001F600-\\U0001F64F')`, `('\\U0001F680-\\U0001F6FF')`, and `('\\u2600'-\\u26FF-\\u2700-\\u27BF')`."
      ]
    },
    {
      "cell_type": "code",
      "metadata": {
        "id": "wUKsMPvLQSzf"
      },
      "source": [
        "german_text = 'Wann gehen wir Pizza essen? 🍕 Und fährst du mit Über? 🚕'"
      ],
      "execution_count": null,
      "outputs": []
    },
    {
      "cell_type": "code",
      "metadata": {
        "id": "5kVreIEpQSzn"
      },
      "source": [
        "# Tokenize and print all words in german_text\n",
        "all_words = word_tokenize(german_text)\n",
        "print(all_words)\n",
        "\n",
        "# Tokenize and print only capital words\n",
        "capital_words = r\"[A-ZÜ]\\w+\"\n",
        "print(regexp_tokenize(german_text, capital_words))\n",
        "\n",
        "# Tokenize and print only emoji\n",
        "emoji = \"['\\U0001F300-\\U0001F5FF'|'\\U0001F600-\\U0001F64F'|'\\U0001F680-\\U0001F6FF'|'\\u2600-\\u26FF\\u2700-\\u27BF']\"\n",
        "print(regexp_tokenize(german_text, emoji))"
      ],
      "execution_count": null,
      "outputs": []
    },
    {
      "cell_type": "markdown",
      "metadata": {
        "id": "9PE6484pQSzo"
      },
      "source": [
        "## Charting word length with NLTK\n"
      ]
    },
    {
      "cell_type": "markdown",
      "metadata": {
        "id": "WiHn6AtYQSzo"
      },
      "source": [
        "### Charting practice\n",
        "Try using your new skills to find and chart the number of words per line in the script using matplotlib. The Holy Grail script is loaded for you, and you need to use regex to find the words per line.\n",
        "\n",
        "Using list comprehensions here will speed up your computations. For example: `my_lines = [tokenize(l) for l in lines]` will call a function tokenize on each line in the list lines. The new transformed list will be saved in the `my_lines` variable."
      ]
    },
    {
      "cell_type": "code",
      "metadata": {
        "id": "mdCxmSdGQSzp"
      },
      "source": [
        "import matplotlib.pyplot as plt\n",
        "\n",
        "# Split the script into lines: lines\n",
        "lines = holy_grail.split('\\n')\n",
        "\n",
        "# Replace all script lines for speaker\n",
        "pattern = \"[A-Z]{2,}(\\s)?(#\\d)?([A-Z]{2,})?:\"\n",
        "lines = [re.sub(pattern, '', l) for l in lines]\n",
        "\n",
        "# Tokenize each line: tokenized_lines\n",
        "tokenized_lines = [regexp_tokenize(s, '\\w+') for s in lines]\n",
        "\n",
        "# Make a frequency list of lengths: line_num_words\n",
        "line_num_words = [len(t_line) for t_line in tokenized_lines]\n",
        "\n",
        "# Plot a histogram of the line lengths\n",
        "plt.figure(figsize=(8,8))\n",
        "plt.hist(line_num_words)\n",
        "plt.title('# of words per line in holy_grail')\n",
        "plt.show()"
      ],
      "execution_count": null,
      "outputs": []
    }
  ]
}